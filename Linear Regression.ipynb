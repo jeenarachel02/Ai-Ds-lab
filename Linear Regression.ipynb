{
 "cells": [
  {
   "cell_type": "code",
   "execution_count": null,
   "id": "e7af6daf",
   "metadata": {},
   "outputs": [],
   "source": [
    "import matplotlib.pyplot as plt\n",
    "from scipy import stats\n",
    "import pandas as pd\n",
    "data=pd.read_csv(\"weight-height.csv\")\n",
    "x=data.loc[:,'Height']\n",
    "y=data.loc[:,'Weight']\n",
    "m,c,r,p,std_err=stats.linregress(x,y)\n",
    "def y_value(x):\n",
    "    return m*x+c\n",
    "model=list(map(y_value,x))\n",
    "plt.scatter(x,y,c='g',label='Datas')\n",
    "plt.plot(x,model,c='r',label='Regression line')\n",
    "plt.title('Linear Regression')\n",
    "plt.xlabel('Height in cm')\n",
    "plt.ylabel('weight in kg')\n",
    "predicted=float(input(\"Enter the height:\"))\n",
    "print(f\"The predicted weight is {y_value(predicted):.4f}\")\n",
    "plt.scatter(predicted,y_value(predicted),marker='o',color='blue',label='Predicted value')\n",
    "plt.legend(bbox_to_anchor=(1.4,1.03))\n",
    "plt.show()"
   ]
  },
  {
   "cell_type": "code",
   "execution_count": null,
   "id": "c59449f4",
   "metadata": {},
   "outputs": [],
   "source": []
  },
  {
   "cell_type": "code",
   "execution_count": null,
   "id": "0220054c",
   "metadata": {},
   "outputs": [],
   "source": []
  }
 ],
 "metadata": {
  "kernelspec": {
   "display_name": "Python 3 (ipykernel)",
   "language": "python",
   "name": "python3"
  },
  "language_info": {
   "codemirror_mode": {
    "name": "ipython",
    "version": 3
   },
   "file_extension": ".py",
   "mimetype": "text/x-python",
   "name": "python",
   "nbconvert_exporter": "python",
   "pygments_lexer": "ipython3",
   "version": "3.9.12"
  }
 },
 "nbformat": 4,
 "nbformat_minor": 5
}

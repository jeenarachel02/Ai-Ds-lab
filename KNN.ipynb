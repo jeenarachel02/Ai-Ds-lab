{
 "cells": [
  {
   "cell_type": "code",
   "execution_count": 1,
   "id": "6189562b",
   "metadata": {},
   "outputs": [
    {
     "name": "stdout",
     "output_type": "stream",
     "text": [
      "Accuracy:100.00%\n",
      "Sample \t Prediction \tActual \tPredicted\n",
      "1\tCorrect\t\t1  \t\t1\n",
      "2\tCorrect\t\t0  \t\t0\n",
      "3\tCorrect\t\t2  \t\t2\n",
      "4\tCorrect\t\t1  \t\t1\n",
      "5\tCorrect\t\t1  \t\t1\n",
      "6\tCorrect\t\t0  \t\t0\n",
      "7\tCorrect\t\t1  \t\t1\n",
      "8\tCorrect\t\t2  \t\t2\n",
      "9\tCorrect\t\t1  \t\t1\n",
      "10\tCorrect\t\t1  \t\t1\n",
      "11\tCorrect\t\t2  \t\t2\n",
      "12\tCorrect\t\t0  \t\t0\n",
      "13\tCorrect\t\t0  \t\t0\n",
      "14\tCorrect\t\t0  \t\t0\n",
      "15\tCorrect\t\t0  \t\t0\n",
      "16\tCorrect\t\t1  \t\t1\n",
      "17\tCorrect\t\t2  \t\t2\n",
      "18\tCorrect\t\t1  \t\t1\n",
      "19\tCorrect\t\t1  \t\t1\n",
      "20\tCorrect\t\t2  \t\t2\n",
      "21\tCorrect\t\t0  \t\t0\n",
      "22\tCorrect\t\t2  \t\t2\n",
      "23\tCorrect\t\t0  \t\t0\n",
      "24\tCorrect\t\t2  \t\t2\n",
      "25\tCorrect\t\t2  \t\t2\n",
      "26\tCorrect\t\t2  \t\t2\n",
      "27\tCorrect\t\t2  \t\t2\n",
      "28\tCorrect\t\t2  \t\t2\n",
      "29\tCorrect\t\t0  \t\t0\n",
      "30\tCorrect\t\t0  \t\t0\n"
     ]
    }
   ],
   "source": [
    "import numpy as np\n",
    "from sklearn.datasets import load_iris\n",
    "from sklearn.model_selection import train_test_split\n",
    "from sklearn.neighbors import KNeighborsClassifier\n",
    "from sklearn.metrics import accuracy_score\n",
    "data=load_iris()\n",
    "x=data.data\n",
    "y=data.target\n",
    "x_train,x_test,y_train,y_test=train_test_split(x,y,test_size=0.2,random_state=42)\n",
    "knn=KNeighborsClassifier(n_neighbors=3)\n",
    "knn.fit(x_train,y_train)\n",
    "y_pred=knn.predict(x_test)\n",
    "accuracy=accuracy_score(y_test,y_pred)\n",
    "print(f'Accuracy:{accuracy*100:.2f}%')\n",
    "print('Sample \\t Prediction \\tActual \\tPredicted')\n",
    "for i in range(len(y_test)):\n",
    "    if y_pred[i]==y_test[i]:\n",
    "        print(f'{i+1}\\tCorrect\\t\\t{y_test[i]}  \\t\\t{y_pred[i]}')\n",
    "    else:\n",
    "        print(f'{i+1}\\tWrong\\t\\t{y_test[i]} \\t\\t{y_pred[i]}')"
   ]
  },
  {
   "cell_type": "code",
   "execution_count": null,
   "id": "a4a51852",
   "metadata": {},
   "outputs": [],
   "source": []
  }
 ],
 "metadata": {
  "kernelspec": {
   "display_name": "Python 3 (ipykernel)",
   "language": "python",
   "name": "python3"
  },
  "language_info": {
   "codemirror_mode": {
    "name": "ipython",
    "version": 3
   },
   "file_extension": ".py",
   "mimetype": "text/x-python",
   "name": "python",
   "nbconvert_exporter": "python",
   "pygments_lexer": "ipython3",
   "version": "3.9.12"
  }
 },
 "nbformat": 4,
 "nbformat_minor": 5
}
